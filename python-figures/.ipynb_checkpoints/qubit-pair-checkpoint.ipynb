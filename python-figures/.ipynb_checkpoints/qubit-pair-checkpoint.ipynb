{
 "cells": [
  {
   "cell_type": "code",
   "execution_count": 1,
   "id": "355868a8",
   "metadata": {},
   "outputs": [
    {
     "data": {
      "text/html": [
       "<div id=\"glowscript\" class=\"glowscript\"></div>"
      ],
      "text/plain": [
       "<IPython.core.display.HTML object>"
      ]
     },
     "metadata": {},
     "output_type": "display_data"
    },
    {
     "data": {
      "application/javascript": [
       "if (typeof Jupyter !== \"undefined\") { window.__context = { glowscript_container: $(\"#glowscript\").removeAttr(\"id\")};}else{ element.textContent = ' ';}"
      ],
      "text/plain": [
       "<IPython.core.display.Javascript object>"
      ]
     },
     "metadata": {},
     "output_type": "display_data"
    }
   ],
   "source": [
    "from vpython import *\n",
    "import vpython"
   ]
  },
  {
   "cell_type": "code",
   "execution_count": 90,
   "id": "85d9d646",
   "metadata": {},
   "outputs": [],
   "source": [
    "\n",
    "def cylinder_arrow(pos, axis, color, radius=0.9):\n",
    "    end = pos + axis\n",
    "    shaft_axis = 0.9*axis\n",
    "    shaft_end = pos + shaft_axis\n",
    "    cylinder(pos = pos, axis = shaft_axis, radius = radius, color=color)\n",
    "    cone(pos = shaft_end, axis = end-shaft_end, radius = 2.4*radius, color=color)"
   ]
  },
  {
   "cell_type": "code",
   "execution_count": 185,
   "id": "ec319d90",
   "metadata": {},
   "outputs": [],
   "source": [
    "\n",
    "\n",
    "\n",
    "def draw_1P_2P_pair(r0 = vector(0,0,0), overlap=False):\n",
    "    \n",
    "    del_x = 15 \n",
    "    del_y = 5\n",
    "    \n",
    "\n",
    "    pos1 = r0 + vector(-del_x/2, -del_y/2, 0)\n",
    "    pos2 = r0 + vector(del_x/2, del_y/2, 0)\n",
    "\n",
    "    ring_thickness = 0.3\n",
    "    ring_color = color.purple\n",
    "    ring_opacity = 0.3\n",
    "    ring_radius = 1.2\n",
    "    ring_axis = vector(0, 0, 1)\n",
    "    text_height = 1\n",
    "    text_up = vector(0,1,0)\n",
    "    text_color = vpython.color.black\n",
    "\n",
    "    # Create two circles at positions (-3,0) and (3,0) with radius 1\n",
    "    circle1 = sphere(pos=pos1, radius=0.8, color=color.black)\n",
    "    circle2 = sphere(pos=pos2, radius=0.8, color=color.white)\n",
    "\n",
    "    ring1 = ring(pos=pos1, axis=ring_axis, radius=ring_radius, thickness=ring_thickness, color=ring_color, opacity=ring_opacity)\n",
    "    ring2 = ring(pos=pos2, axis=ring_axis, radius=ring_radius, thickness=ring_thickness, color=color.green, opacity=ring_opacity)\n",
    "\n",
    "    E0_pos = vector(-del_x/4, -del_y/2+5, 0)\n",
    "    E0_length = del_y/1.5\n",
    "    E1_length = E0_length*0.7\n",
    "    cylinder_arrow(r0+E0_pos, vector(0,E0_length,0), color.black, radius=0.1)\n",
    "    text(text='E0', pos = r0+E0_pos+vector(-0.7,E0_length+0.3,0), height=text_height, up = text_up, color=text_color, depth=0.001)\n",
    "\n",
    "    if overlap:\n",
    "        axis = pos2-pos1\n",
    "        cylinder(pos=pos1+ring_radius*norm(axis), axis=axis-2.3*ring_radius*norm(axis), color=color.red, radius=0.2, opacity=ring_opacity)\n",
    "        ring12 = ring(pos=pos2, axis=ring_axis, radius=ring_radius*1.3, thickness=ring_thickness/1.5, color=ring_color, opacity=ring_opacity)\n",
    "        cylinder_arrow(r0+E0_pos, vector(-E1_length,0,0), color.red, radius=0.1)\n",
    "        text(text='E3', pos = r0+E0_pos-vector(E1_length+1.5*text_height,0.5*text_height,0), height=text_height, up = text_up, color=text_color, depth=0.001)\n",
    "        \n",
    "    # Draw a line connecting the circles\n",
    "\n",
    "    cylinder(pos=circle1.pos, axis=vector(del_x,0, 0), color=color.black, radius=0.05, opacity=0.4)\n",
    "    cylinder(pos=circle2.pos, axis=vector(0,-del_y, 0), color=color.black, radius=0.05, opacity=0.4)\n",
    "\n",
    "    text(text='15 nm', pos = r0+vector(0, -del_y/2-text_height-0.5, 0), height=text_height, up = text_up, color=text_color, depth=0.01)\n",
    "    text(text='5 nm', pos = r0+vector(del_x/2+text_height-0.5, -text_height/2, 0), height=text_height, up = text_up, color=text_color, depth=0.001)\n",
    "\n",
    "    offset = vector(-0.5, 1.9, 0)\n",
    "    text(text='1P', pos = pos1+offset, height=text_height, up = text_up, color=text_color, depth=0.001)\n",
    "    text(text='2P', pos = pos2+offset, height=text_height, up = text_up, color=text_color, depth=0.001)\n",
    "\n",
    "\n",
    "    scene.camera.pos = vector(0,0,20)\n",
    "    scene.lights[0].direction = vector(0, 0, 0.3) \n",
    "\n"
   ]
  },
  {
   "cell_type": "code",
   "execution_count": 186,
   "id": "c6a78bec",
   "metadata": {},
   "outputs": [
    {
     "data": {
      "text/html": [
       "<div id=\"glowscript\" class=\"glowscript\"></div>"
      ],
      "text/plain": [
       "<IPython.core.display.HTML object>"
      ]
     },
     "metadata": {},
     "output_type": "display_data"
    },
    {
     "data": {
      "application/javascript": [
       "if (typeof Jupyter !== \"undefined\") { window.__context = { glowscript_container: $(\"#glowscript\").removeAttr(\"id\")};}else{ element.textContent = ' ';}"
      ],
      "text/plain": [
       "<IPython.core.display.Javascript object>"
      ]
     },
     "metadata": {},
     "output_type": "display_data"
    }
   ],
   "source": [
    "\n",
    "scene = canvas(title=\"circles joined by line\", width=400, height=400, background=vpython.color.white)\n",
    "scene.width = 600\n",
    "scene.height = 400\n",
    "scene.background = color.white\n",
    "scene.range = 25  # Set viewing range\n",
    "\n",
    "draw_1P_2P_pair(r0 = vector(0,0,0), overlap=True)\n",
    "# draw_1P_2P_pair(r0 = vector(25,0,0), overlap=True)"
   ]
  },
  {
   "cell_type": "code",
   "execution_count": 143,
   "id": "1319c156",
   "metadata": {},
   "outputs": [
    {
     "ename": "AttributeError",
     "evalue": "'bool' object has no attribute '_x'",
     "output_type": "error",
     "traceback": [
      "\u001b[0;31m---------------------------------------------------------------------------\u001b[0m",
      "\u001b[0;31mAttributeError\u001b[0m                            Traceback (most recent call last)",
      "Input \u001b[0;32mIn [143]\u001b[0m, in \u001b[0;36m<cell line: 1>\u001b[0;34m()\u001b[0m\n\u001b[0;32m----> 1\u001b[0m \u001b[43mdraw_1P_2P_pair\u001b[49m\u001b[43m(\u001b[49m\u001b[38;5;28;43;01mTrue\u001b[39;49;00m\u001b[43m)\u001b[49m\n",
      "Input \u001b[0;32mIn [141]\u001b[0m, in \u001b[0;36mdraw_1P_2P_pair\u001b[0;34m(r0, overlap)\u001b[0m\n\u001b[1;32m      3\u001b[0m del_x \u001b[38;5;241m=\u001b[39m \u001b[38;5;241m15\u001b[39m \n\u001b[1;32m      4\u001b[0m del_y \u001b[38;5;241m=\u001b[39m \u001b[38;5;241m5\u001b[39m\n\u001b[0;32m----> 7\u001b[0m pos1 \u001b[38;5;241m=\u001b[39m \u001b[43mr0\u001b[49m\u001b[43m \u001b[49m\u001b[38;5;241;43m+\u001b[39;49m\u001b[43m \u001b[49m\u001b[43mvector\u001b[49m\u001b[43m(\u001b[49m\u001b[38;5;241;43m-\u001b[39;49m\u001b[43mdel_x\u001b[49m\u001b[38;5;241;43m/\u001b[39;49m\u001b[38;5;241;43m2\u001b[39;49m\u001b[43m,\u001b[49m\u001b[43m \u001b[49m\u001b[38;5;241;43m-\u001b[39;49m\u001b[43mdel_y\u001b[49m\u001b[38;5;241;43m/\u001b[39;49m\u001b[38;5;241;43m2\u001b[39;49m\u001b[43m,\u001b[49m\u001b[43m \u001b[49m\u001b[38;5;241;43m0\u001b[39;49m\u001b[43m)\u001b[49m\n\u001b[1;32m      8\u001b[0m pos2 \u001b[38;5;241m=\u001b[39m r0 \u001b[38;5;241m+\u001b[39m vector(del_x\u001b[38;5;241m/\u001b[39m\u001b[38;5;241m2\u001b[39m, del_y\u001b[38;5;241m/\u001b[39m\u001b[38;5;241m2\u001b[39m, \u001b[38;5;241m0\u001b[39m)\n\u001b[1;32m     10\u001b[0m ring_thickness \u001b[38;5;241m=\u001b[39m \u001b[38;5;241m0.3\u001b[39m\n",
      "File \u001b[0;32mvpython/cyvector.pyx:68\u001b[0m, in \u001b[0;36mvpython.cyvector.vector.__add__\u001b[0;34m()\u001b[0m\n",
      "\u001b[0;31mAttributeError\u001b[0m: 'bool' object has no attribute '_x'"
     ]
    }
   ],
   "source": [
    "draw_1P_2P_pair(True)"
   ]
  },
  {
   "cell_type": "code",
   "execution_count": null,
   "id": "2c1a8537",
   "metadata": {},
   "outputs": [],
   "source": []
  }
 ],
 "metadata": {
  "kernelspec": {
   "display_name": "Python 3 (ipykernel)",
   "language": "python",
   "name": "python3"
  },
  "language_info": {
   "codemirror_mode": {
    "name": "ipython",
    "version": 3
   },
   "file_extension": ".py",
   "mimetype": "text/x-python",
   "name": "python",
   "nbconvert_exporter": "python",
   "pygments_lexer": "ipython3",
   "version": "3.9.12"
  }
 },
 "nbformat": 4,
 "nbformat_minor": 5
}
