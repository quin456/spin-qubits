{
 "cells": [
  {
   "cell_type": "code",
   "execution_count": 1,
   "metadata": {},
   "outputs": [
    {
     "data": {
      "text/html": [
       "<div id=\"glowscript\" class=\"glowscript\"></div>"
      ],
      "text/plain": [
       "<IPython.core.display.HTML object>"
      ]
     },
     "metadata": {},
     "output_type": "display_data"
    },
    {
     "data": {
      "application/javascript": [
       "if (typeof Jupyter !== \"undefined\") { window.__context = { glowscript_container: $(\"#glowscript\").removeAttr(\"id\")};}else{ element.textContent = ' ';}"
      ],
      "text/plain": [
       "<IPython.core.display.Javascript object>"
      ]
     },
     "metadata": {},
     "output_type": "display_data"
    }
   ],
   "source": [
    "import vpython\n",
    "from vpython import canvas, color, vector, sphere, box, cylinder, arrow, cone, text"
   ]
  },
  {
   "cell_type": "code",
   "execution_count": 2,
   "metadata": {},
   "outputs": [],
   "source": [
    "\n",
    "def draw_axes(L=100,w=1):\n",
    "    # Create X, Y, Z axes using arrows\n",
    "    arrow(pos=vector(0,0,0), axis=vector(1,0,0), color=color.red, shaftwidth=w, length=L, label=\"x\")\n",
    "    arrow(pos=vector(0,0,0), axis=vector(0,1,0), color=color.green, shaftwidth=w, length=L, label=\"y\")\n",
    "    arrow(pos=vector(0,0,0), axis=vector(0,0,1), color=color.blue, shaftwidth=w, length=L, label=\"z\")\n",
    "\n",
    "def print_camera_info(scene):\n",
    "    print(f\"pos = {scene.camera.pos}\")\n",
    "    print(f\"axis = {scene.axis}\")\n",
    "    print(f\"up = {scene.camera.up}\")\n",
    "    print(f\"center = {scene.center}\")\n",
    "    \n",
    "\n",
    "def draw_line(start, end, color, radius=0.6):\n",
    "    cylinder(pos = start, axis = end-start, radius = radius, color=color)\n",
    "    \n",
    "\n",
    "def cylinder_arrow(pos, axis, color, radius=0.9):\n",
    "    end = pos + axis\n",
    "    shaft_axis = 0.8*axis\n",
    "    shaft_end = pos + shaft_axis\n",
    "    cylinder(pos = pos, axis = shaft_axis, radius = radius, color=color)\n",
    "    cone(pos = shaft_end, axis = end-shaft_end, radius = 1.8*radius, color=color)\n"
   ]
  },
  {
   "cell_type": "code",
   "execution_count": 3,
   "metadata": {
    "scrolled": false
   },
   "outputs": [],
   "source": [
    "# create square coupler surface code\n",
    "\n",
    "flag_data_color = vpython.color.yellow\n",
    "data_flag_color = vpython.color.blue\n",
    "measure_flag_color = vpython.color.red\n",
    "flag_measure_color = vpython.color.green\n",
    "const_E_color = vpython.color.black\n",
    "\n",
    "data_color = vpython.color.orange\n",
    "flag_color = vpython.color.white\n",
    "measure_color = vpython.color.black\n",
    "\n",
    "text_color = vector(1,1,1)*1\n",
    "\n",
    "\n",
    "def draw_E_field_directions(pos, size = 30):\n",
    "    \n",
    "    cylinder_arrow(pos=pos, axis=vector(0,0,size), color = const_E_color)\n",
    "    cylinder_arrow(pos=pos, axis=vector(size,0,0), color = flag_measure_color)\n",
    "    cylinder_arrow(pos=pos, axis=vector(0,size,0), color = data_flag_color)\n",
    "    cylinder_arrow(pos=pos, axis=vector(-size,0,0), color = measure_flag_color)\n",
    "    cylinder_arrow(pos=pos, axis=vector(0,-size,0), color = flag_data_color)\n",
    "    \n",
    "    up = vector(0,0,1)\n",
    "    text_height = 6\n",
    "    text(text=\"E0\", pos=pos+vector(0,0,size+1.5), height=text_height, up=up, color=text_color)\n",
    "    text(text=\"E1\", pos=pos+vector(size,-text_height/2,0), height=text_height, up=vector(0,1,0), color=text_color)\n",
    "    text(text=\"E2\", pos=pos+vector(0,size,0), height=text_height, up=vector(0,1,0), color=text_color)\n",
    "    text(text=\"E3\", pos=pos+vector(-size-text_height,-text_height/2,0), height=text_height, up=vector(0,1,0), color=text_color)\n",
    "    text(text=\"E4\", pos=pos+vector(0,-size-text_height,0), height=text_height, up=vector(0,1,0), color=text_color)\n",
    "\n",
    "    \n",
    "\n",
    "def draw_qubit_legend(pos, q_radius=4.5, sep = 30, inactive_measure=False):\n",
    "    text_up = vector(1,0,0)\n",
    "    text_height = 6\n",
    "    text_offset = vector(-6,-9,0)\n",
    "    \n",
    "    d_pos = pos+vector(sep,0,0)\n",
    "    sphere(pos=d_pos, color=data_color, radius=q_radius)\n",
    "    text(text=\"Data (1P)\", pos=d_pos+text_offset, up=text_up, height=text_height, color=text_color)\n",
    "    \n",
    "    m_pos=pos\n",
    "    sphere(pos = m_pos, color=measure_color, radius=q_radius)\n",
    "    text(text=\"Measure (1P)\", pos=m_pos+text_offset, up=text_up, height=text_height, color=text_color)\n",
    "    \n",
    "    f_pos=pos+vector(-sep,0,0)\n",
    "    sphere(pos = f_pos, color=flag_color, radius=q_radius)\n",
    "    text(text=\"Flag (2P)\", pos=f_pos+text_offset, up=text_up, height=text_height, color=text_color)\n",
    "    \n",
    "    if inactive_measure:\n",
    "        im_pos = pos+vector(-2*sep,0,0)\n",
    "        sphere(pos = im_pos, color=measure_color, radius=q_radius, opacity=0.2)\n",
    "        text(text=\"Measure (1P+)\", pos=im_pos+text_offset, up=text_up, height=text_height, color=text_color)\n",
    "\n",
    "def draw_SET(x, y, z, length = 13, height=3):\n",
    "    box(pos=vector(x,y,z), length=length, width=height, height=length)\n",
    "    \n",
    "    \n",
    "def draw_SETs(N, sep=5, side_length=13, height=2):\n",
    "    for i in range(N-1):\n",
    "        for j in range(N-1):\n",
    "            if i%4 == 1 and j%4==1 or i%4==3 and j%4==3:\n",
    "                x = i*sep\n",
    "                y = j*sep \n",
    "                z = 0\n",
    "                draw_SET(x, y, z, side_length, height=height)\n",
    "            \n",
    "            \n",
    "def draw_wire(orientation, pos, length, radius=5, color=color.blue, z=20):\n",
    "    if orientation == 'x':\n",
    "        axis = vector(length,0,z)\n",
    "        pos = vector(0,pos,z)\n",
    "    elif orientation == 'y':\n",
    "        axis = vector(0,length,0)\n",
    "        pos = vector(pos,0,-z)\n",
    "    else:\n",
    "        raise Exception(\"Invalid orientation: must be 'x' or 'y'.\")\n",
    "    cylinder(pos = pos, axis = axis, radius = radius, color=color, opacity=0.3)\n",
    "    \n",
    "            \n",
    "def draw_wires(N, sep, radius=2.5):\n",
    "    \n",
    "    for i in range(N):\n",
    "        if i%2 == 1:\n",
    "            draw_wire('y', i*sep, (N-1)*sep, radius=radius, color=color.white)\n",
    "            draw_wire('x', i*sep, (N-1)*sep, radius=radius, color=color.white)\n",
    "            \n",
    "    \n",
    "def draw_control_apparatus(N, sep = 5, wire_radius=5, SET_length=9, SET_height=1.5):\n",
    "    \n",
    "    draw_SETs(N, sep=sep, side_length=SET_length, height=SET_height)\n",
    "    draw_wires(N, sep, radius=wire_radius)\n",
    "    \n",
    "def draw_data_and_flag_qubits(N, sep, qubit_radius=3):\n",
    "    for i in range(N):\n",
    "        for j in range(N):\n",
    "            if i%2 == 1 and j%2==1:\n",
    "                # middle of heavy square\n",
    "                continue\n",
    "            x = i*sep\n",
    "            y = j*sep\n",
    "            z = sep/6\n",
    "            if i%2==0 and j%2==0:\n",
    "                # vertex\n",
    "                qubit_color = flag_color\n",
    "            else:\n",
    "                # edge\n",
    "                z*=-1\n",
    "                if i%2 == 0:\n",
    "                    # vertical edge / data qubit\n",
    "                    qubit_color = data_color\n",
    "                else:\n",
    "                    # vertical edge / data qubit\n",
    "                    continue\n",
    "            pos = vector(x, y, z)\n",
    "            sphere(pos=pos, radius=qubit_radius, color=qubit_color)\n",
    "            \n",
    "def draw_measure_1_qubits(N, sep, qubit_radius=3, qubit_color = measure_color, opacity=1):\n",
    "    for i in range(N):\n",
    "        for j in range(N):\n",
    "            \n",
    "            if i%2 == 1 and j%2==1:\n",
    "                # middle of heavy square\n",
    "                continue\n",
    "            if i%2 == 1 and j%2==0 and (i+j)%4==1:\n",
    "                # horizontal edge / measure qubit\n",
    "                x = i*sep\n",
    "                y = j*sep\n",
    "                z = -sep/6\n",
    "                pos = vector(x, y, z)\n",
    "                color = measure_color\n",
    "                sphere(pos=pos, radius=qubit_radius, color=qubit_color, opacity=opacity)\n",
    "                \n",
    "def draw_measure_2_qubits(N, sep, qubit_radius=3, qubit_color = measure_color, opacity=1):\n",
    "    for i in range(N):\n",
    "        for j in range(N):\n",
    "            \n",
    "            if i%2 == 1 and j%2==1 and (i+j)%4==3:\n",
    "                # middle of heavy square\n",
    "                continue\n",
    "            if i%2 == 1 and j%2==0:\n",
    "                # horizontal edge / measure qubit\n",
    "                x = i*sep\n",
    "                y = j*sep\n",
    "                z = -sep/6\n",
    "                pos = vector(x, y, z)\n",
    "                color = measure_color\n",
    "                sphere(pos=pos, radius=qubit_radius, color=qubit_color, opacity=opacity)\n",
    "    \n",
    "    \n",
    "    \n",
    "def draw_qubits(N, sep, qubits = ['M', 'F', 'D'], qubit_radius=3):\n",
    "    \n",
    "    if 'F' in qubits and 'D' in qubits:\n",
    "        draw_data_and_flag_qubits(N, sep, qubit_radius=qubit_radius)\n",
    "    \n",
    "    if 'M' in qubits:\n",
    "        draw_measure_1_qubits(N, sep, qubit_radius=qubit_radius)\n",
    "        draw_measure_2_qubits(N, sep, qubit_radius=qubit_radius)\n",
    "    elif 'M1' in qubits and 'M2' not in qubits:\n",
    "        draw_measure_1_qubits(N, sep, qubit_radius=qubit_radius)\n",
    "        draw_measure_2_qubits(N, sep, qubit_radius=qubit_radius, opacity=0.15)\n",
    "    elif 'M2' in qubits or 'M1' not in qubits:\n",
    "        draw_measure_2_qubits(N, sep, qubit_radius=qubit_radius)\n",
    "        draw_measure_1_qubits(N, sep, qubit_radius=qubit_radius, opacity=0.15)\n",
    "#     for i in range(N):\n",
    "#         for j in range(N):\n",
    "#             if i%2 == 1 and j%2==1:\n",
    "#                 # middle of heavy square\n",
    "#                 continue\n",
    "#             x = i*sep\n",
    "#             y = j*sep\n",
    "#             z = sep/6\n",
    "#             if i%2==0 and j%2==0:\n",
    "#                 # vertex\n",
    "#                 qubit_color = flag_color\n",
    "#             else:\n",
    "#                 # edge\n",
    "#                 z*=-1\n",
    "#                 if i%2 == 0:\n",
    "#                     # horizontal edge / measure qubit\n",
    "#                     qubit_color = data_color\n",
    "#                 else:\n",
    "#                     # vertical edge / data qubit\n",
    "#                     qubit_color = measure_color\n",
    "#             pos = vector(x, y, z)\n",
    "#             color = measure_color\n",
    "#             sphere(pos=pos, radius=qubit_radius, color=qubit_color)\n",
    "\n",
    "    \n",
    "def draw_edges(N, sep, edges=['MF', 'FM', 'FD', 'DF']):\n",
    "    \"\"\"\n",
    "    Draws edges between qubits.\n",
    "    \n",
    "    Args:\n",
    "        N (int): Length of code in qubits\n",
    "        sep (float): qubit separation\n",
    "        edges (List[float]): Edges to draw. MF indicates measure-flag edges, etc.\n",
    "    \"\"\"\n",
    "    for i in range(N):\n",
    "        for j in range(N):\n",
    "            if i%2 == 1 and j%2==1:\n",
    "                # middle of heavy square\n",
    "                continue\n",
    "            x = i*sep\n",
    "            y = j*sep\n",
    "            z = sep/6\n",
    "            if i%2==0 and j%2==0:\n",
    "                # vertex\n",
    "                if i < N-1:\n",
    "                    # draw connecting vertical lines\n",
    "                    if 'FM' in edges or 'FM1' in edges and (i+j)%4==0 or 'FM2' in edges and (i+j)%4==2:\n",
    "                        draw_line(vector(x,y,z), vector(x+sep, y, -z), color=flag_measure_color)\n",
    "                if j < N-1 and 'DF' in edges:\n",
    "                    # draw connecting vertical lines\n",
    "                    draw_line(vector(x,y,z), vector(x, y+sep, -z), color=data_flag_color)\n",
    "            else:\n",
    "                # edge\n",
    "                z*=-1\n",
    "                if i%2 == 0:\n",
    "                    # horizontal edge / measure qubit\n",
    "                    if j < N-1 and 'FD' in edges:\n",
    "                        # draw connecting vertical lines\n",
    "                        draw_line(vector(x,y,z), vector(x, y+sep, -z), color=flag_data_color)\n",
    "                else:\n",
    "                    # vertical edge / data qubit\n",
    "                    if i < N-1:\n",
    "                        if 'MF' in edges or 'MF1' in edges and (i+j)%4==1 or 'MF2' in edges and (i+j)%4==3:\n",
    "                            # draw connecting vertical lines\n",
    "                            draw_line(vector(x,y,z), vector(x+sep, y, -z), color=measure_flag_color)\n",
    "            pos = vector(x, y, z)\n",
    "            radius = 3\n",
    "            \n",
    "    \n",
    "    \n",
    "def generate_code(N, sep = 15, radius=2.5, qubits = ['M', 'F', 'D'], edges=['MF', 'FM', 'DF', 'FD']):\n",
    "    \n",
    "    \n",
    "    E_size = 24\n",
    "    scene = canvas(title=\"Alternating height heavy square\", width=2400, height=2400, background=vpython.color.white)\n",
    "    \n",
    "    draw_E_field_directions(vector(-2*E_size, N*sep/2, 0), size=E_size)\n",
    "    \n",
    "    inactive_measure = False if 'M' in qubits else True\n",
    "    draw_qubit_legend(vector(N*sep/2,-18,0), inactive_measure=inactive_measure)\n",
    "    \n",
    "    # draw_control_apparatus(N, sep=sep, wire_radius=1)\n",
    "\n",
    "    draw_qubits(N, sep, qubits = qubits, qubit_radius=2.5)\n",
    "    draw_edges(N, sep, edges=edges)\n",
    "    \n",
    "    \n",
    "    \n",
    "    \n",
    "    scene.camera.pos = vector(-280,-300,300)\n",
    "    scene.camera.axis = vector(400,200,-200)\n",
    "    scene.camera.up = vector(0.5,0.5,4)\n",
    "    \n",
    "#     scene.camera.pos = vector(200,100,300)\n",
    "#     scene.camera.axis = vector(0,0,-200)\n",
    "    \n",
    "    \n",
    "    print_camera_info(scene)\n",
    "    \n",
    "    "
   ]
  },
  {
   "cell_type": "code",
   "execution_count": 4,
   "metadata": {
    "scrolled": false
   },
   "outputs": [
    {
     "data": {
      "text/html": [
       "<div id=\"glowscript\" class=\"glowscript\"></div>"
      ],
      "text/plain": [
       "<IPython.core.display.HTML object>"
      ]
     },
     "metadata": {},
     "output_type": "display_data"
    },
    {
     "data": {
      "application/javascript": [
       "if (typeof Jupyter !== \"undefined\") { window.__context = { glowscript_container: $(\"#glowscript\").removeAttr(\"id\")};}else{ element.textContent = ' ';}"
      ],
      "text/plain": [
       "<IPython.core.display.Javascript object>"
      ]
     },
     "metadata": {},
     "output_type": "display_data"
    },
    {
     "data": {
      "application/javascript": [
       "if (typeof Jupyter !== \"undefined\") {require.undef(\"nbextensions/vpython_libraries/glow.min\");}else{element.textContent = ' ';}"
      ],
      "text/plain": [
       "<IPython.core.display.Javascript object>"
      ]
     },
     "metadata": {},
     "output_type": "display_data"
    },
    {
     "data": {
      "application/javascript": [
       "if (typeof Jupyter !== \"undefined\") {require.undef(\"nbextensions/vpython_libraries/glowcomm\");}else{element.textContent = ' ';}"
      ],
      "text/plain": [
       "<IPython.core.display.Javascript object>"
      ]
     },
     "metadata": {},
     "output_type": "display_data"
    },
    {
     "data": {
      "application/javascript": [
       "if (typeof Jupyter !== \"undefined\") {require.undef(\"nbextensions/vpython_libraries/jquery-ui.custom.min\");}else{element.textContent = ' ';}"
      ],
      "text/plain": [
       "<IPython.core.display.Javascript object>"
      ]
     },
     "metadata": {},
     "output_type": "display_data"
    },
    {
     "data": {
      "application/javascript": [
       "if (typeof Jupyter !== \"undefined\") {require([\"nbextensions/vpython_libraries/glow.min\"], function(){console.log(\"GLOW LOADED\");});}else{element.textContent = ' ';}"
      ],
      "text/plain": [
       "<IPython.core.display.Javascript object>"
      ]
     },
     "metadata": {},
     "output_type": "display_data"
    },
    {
     "data": {
      "application/javascript": [
       "if (typeof Jupyter !== \"undefined\") {require([\"nbextensions/vpython_libraries/glowcomm\"], function(){console.log(\"GLOWCOMM LOADED\");});}else{element.textContent = ' ';}"
      ],
      "text/plain": [
       "<IPython.core.display.Javascript object>"
      ]
     },
     "metadata": {},
     "output_type": "display_data"
    },
    {
     "data": {
      "application/javascript": [
       "if (typeof Jupyter !== \"undefined\") {require([\"nbextensions/vpython_libraries/jquery-ui.custom.min\"], function(){console.log(\"JQUERY LOADED\");});}else{element.textContent = ' ';}"
      ],
      "text/plain": [
       "<IPython.core.display.Javascript object>"
      ]
     },
     "metadata": {},
     "output_type": "display_data"
    },
    {
     "name": "stdout",
     "output_type": "stream",
     "text": [
      "pos = <-280, -300, 300>\n",
      "axis = <0.816497, 0.408248, -0.408248>\n",
      "up = <0.5, 0.5, 4>\n",
      "center = <120, -100, 100>\n"
     ]
    }
   ],
   "source": [
    "generate_code(9, qubits=['M1', 'F', 'D'], edges=['MF1', 'FM1', 'DF', 'FD'])"
   ]
  },
  {
   "cell_type": "code",
   "execution_count": null,
   "metadata": {
    "scrolled": false
   },
   "outputs": [],
   "source": [
    "text_height=5\n",
    "\n",
    "def draw_stabilizer_couplings(N=7, sep=15):\n",
    "    scene = canvas(title=\"Stabilizer couplings\", width=2400, height=2400, background=vpython.color.white)\n",
    "    draw_data_and_flag_qubits(N, sep)\n",
    "    draw_measure_1_qubits(N, sep)\n",
    "    draw_measure_2_qubits(N, sep, qubit_radius=3, opacity=0.15)\n",
    "    \n",
    "    draw_edges(N, sep, ['MF1'])\n",
    "    cylinder_arrow(vector(60,-15,0), vector(-40,0,0), color = measure_flag_color, radius=0.9)\n",
    "    text(text=\"E3\", pos=vector(10,-15-text_height/2,0), height=text_height, up=vector(0,1,0), color=text_color)\n",
    "    \n",
    "    scene.camera.pos = vector(620, 150,1600)\n",
    "    scene.camera.axis = vector(0,0,-200)\n",
    "    print_camera_info(scene)\n",
    "    \n",
    "draw_stabilizer_couplings()\n",
    "\n",
    "print(f\"data_flag_color = {data_flag_color}\")\n",
    "print(f\"flag_data_color = {flag_data_color}\")\n",
    "print(f\"flag_measure_color = {flag_measure_color}\")\n",
    "print(f\"measure_flag_color = {measure_flag_color}\")\n"
   ]
  },
  {
   "cell_type": "code",
   "execution_count": null,
   "metadata": {},
   "outputs": [],
   "source": []
  },
  {
   "cell_type": "code",
   "execution_count": null,
   "metadata": {},
   "outputs": [],
   "source": []
  }
 ],
 "metadata": {
  "kernelspec": {
   "display_name": "Python 3 (ipykernel)",
   "language": "python",
   "name": "python3"
  },
  "language_info": {
   "codemirror_mode": {
    "name": "ipython",
    "version": 3
   },
   "file_extension": ".py",
   "mimetype": "text/x-python",
   "name": "python",
   "nbconvert_exporter": "python",
   "pygments_lexer": "ipython3",
   "version": "3.9.12"
  }
 },
 "nbformat": 4,
 "nbformat_minor": 2
}
